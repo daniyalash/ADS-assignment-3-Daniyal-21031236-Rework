{
 "cells": [
  {
   "cell_type": "markdown",
   "metadata": {
    "id": "qgEbb4fLzDQg"
   },
   "source": [
    "## Importing standard python dependencies"
   ]
  },
  {
   "cell_type": "code",
   "execution_count": 83,
   "metadata": {
    "id": "sDMtN4_a_wGw"
   },
   "outputs": [],
   "source": [
    "import os, requests, zipfile\n",
    "import numpy as np\n",
    "import pandas as pd\n",
    "# Ignore harmless warnings\n",
    "import warnings\n",
    "warnings.filterwarnings(\"ignore\")\n",
    "from sklearn.decomposition import PCA\n",
    "from sklearn.cluster import KMeans"
   ]
  },
  {
   "cell_type": "markdown",
   "metadata": {
    "id": "ftYTQQoDa3H0"
   },
   "source": [
    "# Data Loading Strategy\n",
    "\n",
    "- We use requests and zipfile modules to retrieve and extract the data on climate change from World Bank API.\n",
    "\n",
    "- Two separate functions are defined for downloading and extracting data respectively. A joinery function is then defined for the two prior functions"
   ]
  },
  {
   "cell_type": "code",
   "execution_count": 32,
   "metadata": {
    "id": "ANnhqmzskz13"
   },
   "outputs": [],
   "source": [
    "# Define the remote file to retrieve the world bank data on climate change\n",
    "climate_data_url = \"https://api.worldbank.org/v2/en/topic/19?downloadformat=csv\"\n",
    "\n",
    "# The base path for all the files\n",
    "base_path = os.getcwd()\n",
    "# The path for storing the zip file for climate change data\n",
    "storage_path = f\"{base_path}/climate_data.tar.gz\""
   ]
  },
  {
   "cell_type": "markdown",
   "metadata": {},
   "source": [
    "# We have make three functions:\n",
    "1.   Get Data\n",
    "2.   Extract Data from File\n",
    "3.    Prepare Data from further analysis"
   ]
  },
  {
   "cell_type": "code",
   "execution_count": 33,
   "metadata": {
    "id": "LhwhMd1uFUAd"
   },
   "outputs": [],
   "source": [
    "def get_data(url):\n",
    "    if not os.path.exists(storage_path):\n",
    "        df = requests.get(url)\n",
    "        with open(storage_path, 'wb')as file:\n",
    "            file.write(df.content)\n",
    "\n",
    "def extract_file(f_path):\n",
    "    if not os.path.exists(\"API_19_DS2_en_csv_v2_4151283.csv\"):\n",
    "        with zipfile.ZipFile(f_path, \"r\") as zp:\n",
    "            zp.extractall(base_path)\n",
    "\n",
    "def prepare_data(url, f_path):\n",
    "    get_data(url)\n",
    "    extract_file(f_path)\n",
    "\n",
    "prepare_data(climate_data_url, storage_path)"
   ]
  },
  {
   "cell_type": "markdown",
   "metadata": {
    "id": "esBrRGsdbR-A"
   },
   "source": [
    "# Data Manipulation and EDA\n",
    "\n",
    "- Using Pandas is a library for manipulating structured data for instance, series and dataframes. \n",
    "\n",
    "- Convert the csv data to a dataframe"
   ]
  },
  {
   "cell_type": "code",
   "execution_count": 87,
   "metadata": {
    "id": "craQKWTnQbFb"
   },
   "outputs": [],
   "source": [
    "df = pd.read_csv(\"climate_dataset.csv\").drop(['Unnamed: 0'], axis=1)"
   ]
  },
  {
   "cell_type": "code",
   "execution_count": 88,
   "metadata": {
    "scrolled": true
   },
   "outputs": [
    {
     "data": {
      "text/html": [
       "<div>\n",
       "<style scoped>\n",
       "    .dataframe tbody tr th:only-of-type {\n",
       "        vertical-align: middle;\n",
       "    }\n",
       "\n",
       "    .dataframe tbody tr th {\n",
       "        vertical-align: top;\n",
       "    }\n",
       "\n",
       "    .dataframe thead th {\n",
       "        text-align: right;\n",
       "    }\n",
       "</style>\n",
       "<table border=\"1\" class=\"dataframe\">\n",
       "  <thead>\n",
       "    <tr style=\"text-align: right;\">\n",
       "      <th></th>\n",
       "      <th>Country</th>\n",
       "      <th>Energy_type</th>\n",
       "      <th>Year</th>\n",
       "      <th>Energy_consumption</th>\n",
       "      <th>Energy_production</th>\n",
       "      <th>GDP</th>\n",
       "      <th>Population</th>\n",
       "      <th>Energy_intensity_per_capita</th>\n",
       "      <th>Energy_intensity_by_GDP</th>\n",
       "      <th>CO2_emission</th>\n",
       "    </tr>\n",
       "  </thead>\n",
       "  <tbody>\n",
       "    <tr>\n",
       "      <th>0</th>\n",
       "      <td>World</td>\n",
       "      <td>all_energy_types</td>\n",
       "      <td>1980</td>\n",
       "      <td>292.899790</td>\n",
       "      <td>296.337228</td>\n",
       "      <td>27770.910281</td>\n",
       "      <td>4.298127e+06</td>\n",
       "      <td>68.145921</td>\n",
       "      <td>10.547</td>\n",
       "      <td>4946.627130</td>\n",
       "    </tr>\n",
       "    <tr>\n",
       "      <th>1</th>\n",
       "      <td>World</td>\n",
       "      <td>coal</td>\n",
       "      <td>1980</td>\n",
       "      <td>78.656134</td>\n",
       "      <td>80.114194</td>\n",
       "      <td>27770.910281</td>\n",
       "      <td>4.298127e+06</td>\n",
       "      <td>68.145921</td>\n",
       "      <td>10.547</td>\n",
       "      <td>1409.790188</td>\n",
       "    </tr>\n",
       "    <tr>\n",
       "      <th>2</th>\n",
       "      <td>World</td>\n",
       "      <td>natural_gas</td>\n",
       "      <td>1980</td>\n",
       "      <td>53.865223</td>\n",
       "      <td>54.761046</td>\n",
       "      <td>27770.910281</td>\n",
       "      <td>4.298127e+06</td>\n",
       "      <td>68.145921</td>\n",
       "      <td>10.547</td>\n",
       "      <td>1081.593377</td>\n",
       "    </tr>\n",
       "    <tr>\n",
       "      <th>3</th>\n",
       "      <td>World</td>\n",
       "      <td>petroleum_n_other_liquids</td>\n",
       "      <td>1980</td>\n",
       "      <td>132.064019</td>\n",
       "      <td>133.111109</td>\n",
       "      <td>27770.910281</td>\n",
       "      <td>4.298127e+06</td>\n",
       "      <td>68.145921</td>\n",
       "      <td>10.547</td>\n",
       "      <td>2455.243565</td>\n",
       "    </tr>\n",
       "    <tr>\n",
       "      <th>4</th>\n",
       "      <td>World</td>\n",
       "      <td>nuclear</td>\n",
       "      <td>1980</td>\n",
       "      <td>7.575700</td>\n",
       "      <td>7.575700</td>\n",
       "      <td>27770.910281</td>\n",
       "      <td>4.298127e+06</td>\n",
       "      <td>68.145921</td>\n",
       "      <td>10.547</td>\n",
       "      <td>0.000000</td>\n",
       "    </tr>\n",
       "  </tbody>\n",
       "</table>\n",
       "</div>"
      ],
      "text/plain": [
       "  Country                Energy_type  Year  Energy_consumption  \\\n",
       "0   World           all_energy_types  1980          292.899790   \n",
       "1   World                       coal  1980           78.656134   \n",
       "2   World                natural_gas  1980           53.865223   \n",
       "3   World  petroleum_n_other_liquids  1980          132.064019   \n",
       "4   World                    nuclear  1980            7.575700   \n",
       "\n",
       "   Energy_production           GDP    Population  Energy_intensity_per_capita  \\\n",
       "0         296.337228  27770.910281  4.298127e+06                    68.145921   \n",
       "1          80.114194  27770.910281  4.298127e+06                    68.145921   \n",
       "2          54.761046  27770.910281  4.298127e+06                    68.145921   \n",
       "3         133.111109  27770.910281  4.298127e+06                    68.145921   \n",
       "4           7.575700  27770.910281  4.298127e+06                    68.145921   \n",
       "\n",
       "   Energy_intensity_by_GDP  CO2_emission  \n",
       "0                   10.547   4946.627130  \n",
       "1                   10.547   1409.790188  \n",
       "2                   10.547   1081.593377  \n",
       "3                   10.547   2455.243565  \n",
       "4                   10.547      0.000000  "
      ]
     },
     "execution_count": 88,
     "metadata": {},
     "output_type": "execute_result"
    }
   ],
   "source": [
    "df.head()"
   ]
  },
  {
   "cell_type": "code",
   "execution_count": 89,
   "metadata": {},
   "outputs": [
    {
     "data": {
      "text/plain": [
       "Index(['Country', 'Energy_type', 'Year', 'Energy_consumption',\n",
       "       'Energy_production', 'GDP', 'Population', 'Energy_intensity_per_capita',\n",
       "       'Energy_intensity_by_GDP', 'CO2_emission'],\n",
       "      dtype='object')"
      ]
     },
     "execution_count": 89,
     "metadata": {},
     "output_type": "execute_result"
    }
   ],
   "source": [
    "df.columns"
   ]
  },
  {
   "cell_type": "markdown",
   "metadata": {},
   "source": [
    "# Normalize dataset before making clustering so we get proper graph"
   ]
  },
  {
   "cell_type": "code",
   "execution_count": 90,
   "metadata": {
    "colab": {
     "base_uri": "https://localhost:8080/",
     "height": 498
    },
    "id": "uOp1NQyZZcV6",
    "outputId": "5f6ad13c-7b10-422a-f1b2-bce16c634fbb",
    "scrolled": false
   },
   "outputs": [],
   "source": [
    "dataset_feature = ['Energy_consumption','Energy_production', 'GDP', 'Population', 'Energy_intensity_per_capita','Energy_intensity_by_GDP', 'CO2_emission']\n",
    "def normalize(df):\n",
    "    result = df.copy()\n",
    "    for feature_name in dataset_feature:\n",
    "        max_value = df[feature_name].max()\n",
    "        min_value = df[feature_name].min()\n",
    "        result[feature_name] = (df[feature_name] - min_value) / (max_value - min_value)\n",
    "    return result\n",
    "\n",
    "df1 = normalize(df)"
   ]
  },
  {
   "cell_type": "markdown",
   "metadata": {},
   "source": [
    "# Replacing Null and Infinitly values "
   ]
  },
  {
   "cell_type": "code",
   "execution_count": 91,
   "metadata": {},
   "outputs": [],
   "source": [
    "df1.replace([np.inf, -np.inf], np.nan, inplace=True)\n",
    "\n"
   ]
  },
  {
   "cell_type": "code",
   "execution_count": 93,
   "metadata": {},
   "outputs": [],
   "source": [
    "df1.fillna(df1.mean(), inplace=True)"
   ]
  },
  {
   "cell_type": "markdown",
   "metadata": {},
   "source": [
    "# Picking Record from last 30 Years 1990 to 2020"
   ]
  },
  {
   "cell_type": "code",
   "execution_count": 94,
   "metadata": {
    "scrolled": true
   },
   "outputs": [
    {
     "data": {
      "text/html": [
       "<div>\n",
       "<style scoped>\n",
       "    .dataframe tbody tr th:only-of-type {\n",
       "        vertical-align: middle;\n",
       "    }\n",
       "\n",
       "    .dataframe tbody tr th {\n",
       "        vertical-align: top;\n",
       "    }\n",
       "\n",
       "    .dataframe thead th {\n",
       "        text-align: right;\n",
       "    }\n",
       "</style>\n",
       "<table border=\"1\" class=\"dataframe\">\n",
       "  <thead>\n",
       "    <tr style=\"text-align: right;\">\n",
       "      <th></th>\n",
       "      <th>Country</th>\n",
       "      <th>Energy_type</th>\n",
       "      <th>Year</th>\n",
       "      <th>Energy_consumption</th>\n",
       "      <th>Energy_production</th>\n",
       "      <th>GDP</th>\n",
       "      <th>Population</th>\n",
       "      <th>Energy_intensity_per_capita</th>\n",
       "      <th>Energy_intensity_by_GDP</th>\n",
       "      <th>CO2_emission</th>\n",
       "    </tr>\n",
       "  </thead>\n",
       "  <tbody>\n",
       "    <tr>\n",
       "      <th>13860</th>\n",
       "      <td>World</td>\n",
       "      <td>all_energy_types</td>\n",
       "      <td>1990</td>\n",
       "      <td>0.588333</td>\n",
       "      <td>0.585175</td>\n",
       "      <td>0.385541</td>\n",
       "      <td>0.686261</td>\n",
       "      <td>0.058613</td>\n",
       "      <td>0.043025</td>\n",
       "      <td>6.226970e-01</td>\n",
       "    </tr>\n",
       "    <tr>\n",
       "      <th>13861</th>\n",
       "      <td>World</td>\n",
       "      <td>coal</td>\n",
       "      <td>1990</td>\n",
       "      <td>0.159732</td>\n",
       "      <td>0.162076</td>\n",
       "      <td>0.385541</td>\n",
       "      <td>0.686261</td>\n",
       "      <td>0.058613</td>\n",
       "      <td>0.043025</td>\n",
       "      <td>2.587689e-01</td>\n",
       "    </tr>\n",
       "    <tr>\n",
       "      <th>13862</th>\n",
       "      <td>World</td>\n",
       "      <td>natural_gas</td>\n",
       "      <td>1990</td>\n",
       "      <td>0.125226</td>\n",
       "      <td>0.123809</td>\n",
       "      <td>0.385541</td>\n",
       "      <td>0.686261</td>\n",
       "      <td>0.058613</td>\n",
       "      <td>0.043025</td>\n",
       "      <td>1.103092e-01</td>\n",
       "    </tr>\n",
       "    <tr>\n",
       "      <th>13863</th>\n",
       "      <td>World</td>\n",
       "      <td>petroleum_n_other_liquids</td>\n",
       "      <td>1990</td>\n",
       "      <td>0.226707</td>\n",
       "      <td>0.222729</td>\n",
       "      <td>0.385541</td>\n",
       "      <td>0.686261</td>\n",
       "      <td>0.058613</td>\n",
       "      <td>0.043025</td>\n",
       "      <td>2.536192e-01</td>\n",
       "    </tr>\n",
       "    <tr>\n",
       "      <th>13864</th>\n",
       "      <td>World</td>\n",
       "      <td>nuclear</td>\n",
       "      <td>1990</td>\n",
       "      <td>0.034132</td>\n",
       "      <td>0.033290</td>\n",
       "      <td>0.385541</td>\n",
       "      <td>0.686261</td>\n",
       "      <td>0.058613</td>\n",
       "      <td>0.043025</td>\n",
       "      <td>1.441684e-07</td>\n",
       "    </tr>\n",
       "  </tbody>\n",
       "</table>\n",
       "</div>"
      ],
      "text/plain": [
       "      Country                Energy_type  Year  Energy_consumption  \\\n",
       "13860   World           all_energy_types  1990            0.588333   \n",
       "13861   World                       coal  1990            0.159732   \n",
       "13862   World                natural_gas  1990            0.125226   \n",
       "13863   World  petroleum_n_other_liquids  1990            0.226707   \n",
       "13864   World                    nuclear  1990            0.034132   \n",
       "\n",
       "       Energy_production       GDP  Population  Energy_intensity_per_capita  \\\n",
       "13860           0.585175  0.385541    0.686261                     0.058613   \n",
       "13861           0.162076  0.385541    0.686261                     0.058613   \n",
       "13862           0.123809  0.385541    0.686261                     0.058613   \n",
       "13863           0.222729  0.385541    0.686261                     0.058613   \n",
       "13864           0.033290  0.385541    0.686261                     0.058613   \n",
       "\n",
       "       Energy_intensity_by_GDP  CO2_emission  \n",
       "13860                 0.043025  6.226970e-01  \n",
       "13861                 0.043025  2.587689e-01  \n",
       "13862                 0.043025  1.103092e-01  \n",
       "13863                 0.043025  2.536192e-01  \n",
       "13864                 0.043025  1.441684e-07  "
      ]
     },
     "execution_count": 94,
     "metadata": {},
     "output_type": "execute_result"
    }
   ],
   "source": [
    "df1 = df1[df1['Year'] > 1989]\n",
    "df1.head()"
   ]
  },
  {
   "cell_type": "markdown",
   "metadata": {},
   "source": [
    "# United Kingdom GDP in last 30 years vs United Kingdom Population in last 30 year"
   ]
  },
  {
   "cell_type": "code",
   "execution_count": 132,
   "metadata": {},
   "outputs": [
    {
     "data": {
      "image/png": "[encoded data removed]",
      "text/plain": [
       "<Figure size 1440x360 with 2 Axes>"
      ]
     },
     "metadata": {
      "needs_background": "light"
     },
     "output_type": "display_data"
    }
   ],
   "source": [
    "# Before Adjustment\n",
    "ax = plt.subplot(1, 2, 1)\n",
    "df1[df1['Country'] == 'United Kingdom'].plot(x='Year', y='GDP', legend=None, ax=ax, figsize=(20, 5), title='United Kingdom GDP in last 40 years');\n",
    "\n",
    "ax = plt.subplot(1, 2, 2)\n",
    "df1[df1['Country'] == 'United Kingdom'].plot(x='Year', y='Population', legend=None, ax=ax, figsize=(20, 5), title='United Kingdom Population in last 40 year');"
   ]
  },
  {
   "cell_type": "markdown",
   "metadata": {},
   "source": [
    "# China GDP in last 30 years vs China Population in last 30 year"
   ]
  },
  {
   "cell_type": "code",
   "execution_count": 133,
   "metadata": {},
   "outputs": [
    {
     "data": {
      "image/png": "[encoded data removed]",
      "text/plain": [
       "<Figure size 1440x360 with 2 Axes>"
      ]
     },
     "metadata": {
      "needs_background": "light"
     },
     "output_type": "display_data"
    }
   ],
   "source": [
    "# Before Adjustment\n",
    "ax = plt.subplot(1, 2, 1)\n",
    "df1[df1['Country'] == 'China'].plot(x='Year', y='GDP', legend=None, ax=ax, figsize=(20, 5), title='China GDP in last 40 years');\n",
    "\n",
    "ax = plt.subplot(1, 2, 2)\n",
    "df1[df1['Country'] == 'China'].plot(x='Year', y='Population', legend=None, ax=ax, figsize=(20, 5), title='China Population in last 40 year');"
   ]
  },
  {
   "cell_type": "markdown",
   "metadata": {},
   "source": [
    "# K-Means Clustering for China and UK"
   ]
  },
  {
   "cell_type": "code",
   "execution_count": 158,
   "metadata": {},
   "outputs": [],
   "source": [
    "China1 = df1[df1['Country'] == 'China']\n",
    "UK = df1[df1['Country'] == 'United Kingdom']"
   ]
  },
  {
   "cell_type": "code",
   "execution_count": 231,
   "metadata": {
    "scrolled": true
   },
   "outputs": [],
   "source": [
    "x = China1.iloc[:,4:7] # 1t for rows and second for columns\n",
    "y = UK.iloc[:,4:7]"
   ]
  },
  {
   "cell_type": "markdown",
   "metadata": {},
   "source": [
    "# Applying PCA"
   ]
  },
  {
   "cell_type": "code",
   "execution_count": 241,
   "metadata": {},
   "outputs": [],
   "source": [
    "pca = PCA(3)\n",
    " \n",
    "#Transform the data\n",
    "df = pca.fit_transform(x)\n",
    " \n",
    "#Import KMeans module\n",
    "from sklearn.cluster import KMeans\n",
    " \n",
    "#Initialize the class object\n",
    "kmeans = KMeans(n_clusters= 10)\n",
    " \n",
    "#predict the labels of clusters.\n",
    "label = kmeans.fit_predict(df)\n",
    " \n",
    "#Getting unique labels\n",
    "u_labels = np.unique(label)"
   ]
  },
  {
   "cell_type": "markdown",
   "metadata": {},
   "source": [
    "# Cluster Shows that China GPA Increase with Population of Country"
   ]
  },
  {
   "cell_type": "code",
   "execution_count": 242,
   "metadata": {},
   "outputs": [
    {
     "data": {
      "image/png": "[encoded data removed]",
      "text/plain": [
       "<Figure size 432x288 with 1 Axes>"
      ]
     },
     "metadata": {
      "needs_background": "light"
     },
     "output_type": "display_data"
    }
   ],
   "source": [
    "#filter rows of original data\n",
    "filtered_label2 = df[label == 0]\n",
    " \n",
    "filtered_label8 = df[label == 5]\n",
    " \n",
    "#Plotting the results\n",
    "plt.scatter(filtered_label2[:,0] , filtered_label2[:,1] , color = 'red')\n",
    "plt.scatter(filtered_label8[:,0] , filtered_label8[:,1] , color = 'blue')\n",
    "plt.show()"
   ]
  },
  {
   "cell_type": "code",
   "execution_count": 237,
   "metadata": {},
   "outputs": [],
   "source": [
    "pca = PCA(3)\n",
    " \n",
    "#Transform the data\n",
    "df = pca.fit_transform(y)\n",
    " \n",
    "#Import KMeans module\n",
    "from sklearn.cluster import KMeans\n",
    " \n",
    "#Initialize the class object\n",
    "kmeans = KMeans(n_clusters= 10)\n",
    " \n",
    "#predict the labels of clusters.\n",
    "label = kmeans.fit_predict(df)\n",
    " \n",
    "#Getting unique labels\n",
    "u_labels = np.unique(label)"
   ]
  },
  {
   "cell_type": "markdown",
   "metadata": {},
   "source": [
    "# Cluster Shows that UK GPA Increase with Population of Country"
   ]
  },
  {
   "cell_type": "code",
   "execution_count": 238,
   "metadata": {},
   "outputs": [
    {
     "data": {
      "image/png": "[encoded data removed]",
      "text/plain": [
       "<Figure size 432x288 with 1 Axes>"
      ]
     },
     "metadata": {
      "needs_background": "light"
     },
     "output_type": "display_data"
    }
   ],
   "source": [
    "#filter rows of original data\n",
    "filtered_label2 = df[label == 0]\n",
    " \n",
    "filtered_label8 = df[label == 5]\n",
    " \n",
    "#Plotting the results\n",
    "plt.scatter(filtered_label2[:,0] , filtered_label2[:,1] , color = 'red')\n",
    "plt.scatter(filtered_label8[:,0] , filtered_label8[:,1] , color = 'blue')\n",
    "plt.show()"
   ]
  },
  {
   "cell_type": "markdown",
   "metadata": {
    "id": "qXZ8t40eIiBq"
   },
   "source": [
    "Part II"
   ]
  },
  {
   "cell_type": "markdown",
   "metadata": {
    "id": "z__gfuJpLqkd"
   },
   "source": [
    "# Curve Fitting\n",
    "\n",
    "Curve fitting is the way we model or represent a data spread by assigning a ‘best fit‘ function (curve) along the entire range. Ideally, it will capture the trend in the data and allow us to make predictions of how the data series will behave in the future"
   ]
  },
  {
   "cell_type": "code",
   "execution_count": 276,
   "metadata": {
    "collapsed": true
   },
   "outputs": [
    {
     "data": {
      "text/html": [
       "<div>\n",
       "<style scoped>\n",
       "    .dataframe tbody tr th:only-of-type {\n",
       "        vertical-align: middle;\n",
       "    }\n",
       "\n",
       "    .dataframe tbody tr th {\n",
       "        vertical-align: top;\n",
       "    }\n",
       "\n",
       "    .dataframe thead th {\n",
       "        text-align: right;\n",
       "    }\n",
       "</style>\n",
       "<table border=\"1\" class=\"dataframe\">\n",
       "  <thead>\n",
       "    <tr style=\"text-align: right;\">\n",
       "      <th></th>\n",
       "      <th>Country Name</th>\n",
       "      <th>Country Code</th>\n",
       "      <th>Indicator Code</th>\n",
       "      <th>1960</th>\n",
       "      <th>1961</th>\n",
       "      <th>1962</th>\n",
       "      <th>1963</th>\n",
       "      <th>1964</th>\n",
       "      <th>1965</th>\n",
       "      <th>1966</th>\n",
       "      <th>...</th>\n",
       "      <th>2012</th>\n",
       "      <th>2013</th>\n",
       "      <th>2014</th>\n",
       "      <th>2015</th>\n",
       "      <th>2016</th>\n",
       "      <th>2017</th>\n",
       "      <th>2018</th>\n",
       "      <th>2019</th>\n",
       "      <th>2020</th>\n",
       "      <th>2021</th>\n",
       "    </tr>\n",
       "  </thead>\n",
       "  <tbody>\n",
       "    <tr>\n",
       "      <th>8</th>\n",
       "      <td>China</td>\n",
       "      <td>ABW</td>\n",
       "      <td>SH.DYN.MORT</td>\n",
       "      <td>0.0</td>\n",
       "      <td>0.0</td>\n",
       "      <td>0.0</td>\n",
       "      <td>0.0</td>\n",
       "      <td>0.0</td>\n",
       "      <td>0.0</td>\n",
       "      <td>0.0</td>\n",
       "      <td>...</td>\n",
       "      <td>0.000000</td>\n",
       "      <td>0.000000</td>\n",
       "      <td>0.000000</td>\n",
       "      <td>0.000000</td>\n",
       "      <td>0.000000</td>\n",
       "      <td>0.000000</td>\n",
       "      <td>0.000000</td>\n",
       "      <td>0.000000</td>\n",
       "      <td>0.000000</td>\n",
       "      <td>0.0</td>\n",
       "    </tr>\n",
       "    <tr>\n",
       "      <th>84</th>\n",
       "      <td>China</td>\n",
       "      <td>AFE</td>\n",
       "      <td>SH.DYN.MORT</td>\n",
       "      <td>0.0</td>\n",
       "      <td>0.0</td>\n",
       "      <td>0.0</td>\n",
       "      <td>0.0</td>\n",
       "      <td>0.0</td>\n",
       "      <td>0.0</td>\n",
       "      <td>0.0</td>\n",
       "      <td>...</td>\n",
       "      <td>78.250071</td>\n",
       "      <td>74.816673</td>\n",
       "      <td>71.794958</td>\n",
       "      <td>69.138157</td>\n",
       "      <td>66.515928</td>\n",
       "      <td>64.243994</td>\n",
       "      <td>62.072936</td>\n",
       "      <td>60.054150</td>\n",
       "      <td>58.158650</td>\n",
       "      <td>0.0</td>\n",
       "    </tr>\n",
       "    <tr>\n",
       "      <th>160</th>\n",
       "      <td>China</td>\n",
       "      <td>AFG</td>\n",
       "      <td>SH.DYN.MORT</td>\n",
       "      <td>358.2</td>\n",
       "      <td>352.2</td>\n",
       "      <td>346.3</td>\n",
       "      <td>340.6</td>\n",
       "      <td>335.1</td>\n",
       "      <td>329.8</td>\n",
       "      <td>324.4</td>\n",
       "      <td>...</td>\n",
       "      <td>80.300000</td>\n",
       "      <td>76.900000</td>\n",
       "      <td>73.600000</td>\n",
       "      <td>70.400000</td>\n",
       "      <td>67.500000</td>\n",
       "      <td>64.800000</td>\n",
       "      <td>62.300000</td>\n",
       "      <td>60.100000</td>\n",
       "      <td>58.000000</td>\n",
       "      <td>0.0</td>\n",
       "    </tr>\n",
       "    <tr>\n",
       "      <th>236</th>\n",
       "      <td>China</td>\n",
       "      <td>AFW</td>\n",
       "      <td>SH.DYN.MORT</td>\n",
       "      <td>0.0</td>\n",
       "      <td>0.0</td>\n",
       "      <td>0.0</td>\n",
       "      <td>0.0</td>\n",
       "      <td>0.0</td>\n",
       "      <td>0.0</td>\n",
       "      <td>0.0</td>\n",
       "      <td>...</td>\n",
       "      <td>114.997108</td>\n",
       "      <td>112.191190</td>\n",
       "      <td>109.696287</td>\n",
       "      <td>107.291693</td>\n",
       "      <td>104.637694</td>\n",
       "      <td>102.032086</td>\n",
       "      <td>99.291140</td>\n",
       "      <td>96.494289</td>\n",
       "      <td>93.627023</td>\n",
       "      <td>0.0</td>\n",
       "    </tr>\n",
       "    <tr>\n",
       "      <th>312</th>\n",
       "      <td>China</td>\n",
       "      <td>AGO</td>\n",
       "      <td>SH.DYN.MORT</td>\n",
       "      <td>0.0</td>\n",
       "      <td>0.0</td>\n",
       "      <td>0.0</td>\n",
       "      <td>0.0</td>\n",
       "      <td>0.0</td>\n",
       "      <td>0.0</td>\n",
       "      <td>0.0</td>\n",
       "      <td>...</td>\n",
       "      <td>105.100000</td>\n",
       "      <td>98.500000</td>\n",
       "      <td>92.900000</td>\n",
       "      <td>88.100000</td>\n",
       "      <td>84.100000</td>\n",
       "      <td>80.600000</td>\n",
       "      <td>77.300000</td>\n",
       "      <td>74.200000</td>\n",
       "      <td>71.500000</td>\n",
       "      <td>0.0</td>\n",
       "    </tr>\n",
       "  </tbody>\n",
       "</table>\n",
       "<p>5 rows × 65 columns</p>\n",
       "</div>"
      ],
      "text/plain": [
       "    Country Name Country Code Indicator Code   1960   1961   1962   1963  \\\n",
       "8          China          ABW    SH.DYN.MORT    0.0    0.0    0.0    0.0   \n",
       "84         China          AFE    SH.DYN.MORT    0.0    0.0    0.0    0.0   \n",
       "160        China          AFG    SH.DYN.MORT  358.2  352.2  346.3  340.6   \n",
       "236        China          AFW    SH.DYN.MORT    0.0    0.0    0.0    0.0   \n",
       "312        China          AGO    SH.DYN.MORT    0.0    0.0    0.0    0.0   \n",
       "\n",
       "      1964   1965   1966  ...        2012        2013        2014        2015  \\\n",
       "8      0.0    0.0    0.0  ...    0.000000    0.000000    0.000000    0.000000   \n",
       "84     0.0    0.0    0.0  ...   78.250071   74.816673   71.794958   69.138157   \n",
       "160  335.1  329.8  324.4  ...   80.300000   76.900000   73.600000   70.400000   \n",
       "236    0.0    0.0    0.0  ...  114.997108  112.191190  109.696287  107.291693   \n",
       "312    0.0    0.0    0.0  ...  105.100000   98.500000   92.900000   88.100000   \n",
       "\n",
       "           2016        2017       2018       2019       2020  2021  \n",
       "8      0.000000    0.000000   0.000000   0.000000   0.000000   0.0  \n",
       "84    66.515928   64.243994  62.072936  60.054150  58.158650   0.0  \n",
       "160   67.500000   64.800000  62.300000  60.100000  58.000000   0.0  \n",
       "236  104.637694  102.032086  99.291140  96.494289  93.627023   0.0  \n",
       "312   84.100000   80.600000  77.300000  74.200000  71.500000   0.0  \n",
       "\n",
       "[5 rows x 65 columns]"
      ]
     },
     "execution_count": 276,
     "metadata": {},
     "output_type": "execute_result"
    }
   ],
   "source": [
    "MRT_filtered.head()"
   ]
  },
  {
   "cell_type": "code",
   "execution_count": 280,
   "metadata": {
    "colab": {
     "base_uri": "https://localhost:8080/",
     "height": 350
    },
    "id": "ZHeEMRWMIkeY",
    "outputId": "e58b03a5-211b-413e-e48f-f2fe1e19917f",
    "scrolled": true
   },
   "outputs": [
    {
     "data": {
      "image/png": "[encoded data removed]",
      "text/plain": [
       "<Figure size 432x288 with 1 Axes>"
      ]
     },
     "metadata": {
      "needs_background": "light"
     },
     "output_type": "display_data"
    }
   ],
   "source": [
    "from scipy.optimize import curve_fit\n",
    "\n",
    "# PREPARING THE TIME SERIES DATA ON INFANT MORTALITY RATE\n",
    "DEU_MRT = MRT_filtered[MRT_filtered['Country Name'] == 'China'].drop(['Country Name', 'Country Code'], axis=1).values[0][1:61].astype('float')\n",
    "\n",
    "years = np.arange(1961,2021,1)\n",
    "years_10 = np.arange(2022,2033, 1)\n",
    "\n",
    "# Define an objective function for population growth rate of Germany\n",
    "def objective_DEU(x, a, b, c, d, e):\n",
    "    return a*x**3 - b*x**d + x*e\n",
    "\n",
    "# Define an objective function for population growth rate of BRAZIL\n",
    "def objective_BRA(x,a,b):\n",
    "    return a*x + b\n",
    "\n",
    "# A function for calculating the error between the real and predicted value\n",
    "def get_loss(y, ypred):\n",
    "    return y-ypred\n",
    "\n",
    "# fitting to find the best curve for Germany Population Growth\n",
    "def fit_DEU(x, y): \n",
    "    popt, _ = curve_fit(objective_DEU, years, DEU_MRT)\n",
    "    a, b, c, d, e= popt\n",
    "    y_fitted = objective_DEU(years, a, b, c, d, e)\n",
    "    return y_fitted\n",
    "\n",
    "# fitting to find the best curve for Brazil Population Growth Rate\n",
    "def fit_BRA(x, y):\n",
    "    popt, _ = curve_fit(objective_BRA, years, BRA_MRT)\n",
    "    a, b = popt\n",
    "    y_fitted = objective_BRA(years, a, b)\n",
    "    return y_fitted\n",
    "\n",
    "# fitted population growth rate for Germany\n",
    "DEU_MRT_fitted = fit_DEU(years, DEU_MRT)\n",
    "# fitted population growth rate for Brazil\n",
    "BRA_MRT_fitted = fit_BRA(years, BRA_MRT)\n",
    "\n",
    " \n",
    "def plot_area(\n",
    "        x, \n",
    "        y, \n",
    "        yhat, \n",
    "        title, \n",
    "        xlabel, \n",
    "        ylabel, label1=\"real\", label2=\"fitted\", label3=\"loss\"):\n",
    "  fig,ax = plt.subplots()\n",
    "  ax.set_title(title)\n",
    "  ax.set_xlabel(xlabel)\n",
    "  ax.set_ylabel(ylabel)\n",
    "  ax.fill_between(x,y,0, color='b', label=label1)\n",
    "  ax.fill_between(x, yhat,y, color='g', label=label2)\n",
    "  plt.legend()\n",
    "  plt.show()\n",
    "  \n",
    "# An area plot of the two time series for the last 30 years\n",
    "plot_area(\n",
    "    years[-30:], \n",
    "    DEU_MRT[-30:], \n",
    "    DEU_MRT_fitted[-30:], \n",
    "    \"China Infant Mortality Rate\", \n",
    "    \"Year\", \n",
    "    \" Infant Mortality Rate\")"
   ]
  },
  {
   "cell_type": "markdown",
   "metadata": {
    "id": "_fBSYuGtcqZu"
   },
   "source": [
    "# ERROR RANGES FOR CHINA INFANT MORTALITY RATE\n",
    "\n",
    "We choose China for the sake of brevity"
   ]
  },
  {
   "cell_type": "code",
   "execution_count": 282,
   "metadata": {
    "id": "1Yi1OQWbtjQo"
   },
   "outputs": [],
   "source": [
    "def plot_limits(x,y,lower,upper,title,xlabel,ylabel,label1=\"actual\",label2=\"lower\",label3=\"upper\"):\n",
    "    fig,ax = plt.subplots()\n",
    "    ax.set_title(title)\n",
    "    ax.set_xlabel(xlabel)\n",
    "    ax.set_ylabel(ylabel)\n",
    "    ax.fill_between(x,y,lower,color=\"g\",label=label1)\n",
    "    ax.fill_between(x, lower,0,color=\"r\", label=label2)\n",
    "    ax.fill_between(x, upper,y, color=\"b\", label=label3)\n",
    "    plt.legend()\n",
    "    plt.show()"
   ]
  },
  {
   "cell_type": "code",
   "execution_count": 295,
   "metadata": {},
   "outputs": [
    {
     "data": {
      "image/png": "[encoded data removed]",
      "text/plain": [
       "<Figure size 432x288 with 1 Axes>"
      ]
     },
     "metadata": {
      "needs_background": "light"
     },
     "output_type": "display_data"
    }
   ],
   "source": [
    "sigma_DEU = get_loss(DEU_MRT[-10:], DEU_MRT_fitted[-10:]) # losses\n",
    "limit_offset = 0.5\n",
    "\n",
    "\n",
    "def err_ranges(x, func, param, sigma):\n",
    "    \"\"\"\n",
    "    Calculates the upper and lower limits for the function, parameters and\n",
    "    sigmas for single value or array x. Functions values are calculated for \n",
    "    all combinations of +/- sigma and the minimum and maximum is determined.\n",
    "    Can be used for all number of parameters and sigmas >=1.\n",
    "    \n",
    "    This routine can be used in assignment programs.\n",
    "    \"\"\"\n",
    "\n",
    "    import itertools as iter\n",
    "    \n",
    "    # initiate arrays for lower and upper limits\n",
    "    lower = func(x, *param)\n",
    "    upper = lower\n",
    "    \n",
    "    uplow = []   # list to hold upper and lower limits for parameters\n",
    "    for p,s in zip(param, sigma):\n",
    "        pmin = p - s\n",
    "        pmax = p + s\n",
    "        uplow.append((pmin, pmax))\n",
    "        \n",
    "    pmix = list(iter.product(*uplow))\n",
    "    \n",
    "    for p in pmix:\n",
    "        y = func(x, *p)\n",
    "        lower = np.minimum(lower, y)\n",
    "        upper = np.maximum(upper, y)\n",
    "        \n",
    "        \n",
    "    plot_limits(\n",
    "        years[-10:], \n",
    "        param, \n",
    "        lower, upper, \n",
    "        \"Error Rate for China Infant Mortality Rate\", \n",
    "        \"Year\", \"Mortality Rate\" )   \n",
    "        \n",
    "    return lower, upper   \n",
    "\n",
    "\n",
    "def func(x, *args):\n",
    "  lower = []\n",
    "  for y in args:\n",
    "    lower.append(y-x)\n",
    "  return lower\n",
    "\n",
    " \n",
    "lower_DEU, upper_DEU = err_ranges(limit_offset, func, DEU_MRT[-10:], sigma_DEU)"
   ]
  },
  {
   "cell_type": "code",
   "execution_count": 247,
   "metadata": {},
   "outputs": [
    {
     "data": {
      "text/html": [
       "<div>\n",
       "<style scoped>\n",
       "    .dataframe tbody tr th:only-of-type {\n",
       "        vertical-align: middle;\n",
       "    }\n",
       "\n",
       "    .dataframe tbody tr th {\n",
       "        vertical-align: top;\n",
       "    }\n",
       "\n",
       "    .dataframe thead th {\n",
       "        text-align: right;\n",
       "    }\n",
       "</style>\n",
       "<table border=\"1\" class=\"dataframe\">\n",
       "  <thead>\n",
       "    <tr style=\"text-align: right;\">\n",
       "      <th></th>\n",
       "      <th>Country</th>\n",
       "      <th>Energy_type</th>\n",
       "      <th>Year</th>\n",
       "      <th>Energy_consumption</th>\n",
       "      <th>Energy_production</th>\n",
       "      <th>GDP</th>\n",
       "      <th>Population</th>\n",
       "      <th>Energy_intensity_per_capita</th>\n",
       "      <th>Energy_intensity_by_GDP</th>\n",
       "      <th>CO2_emission</th>\n",
       "    </tr>\n",
       "  </thead>\n",
       "  <tbody>\n",
       "    <tr>\n",
       "      <th>13860</th>\n",
       "      <td>World</td>\n",
       "      <td>all_energy_types</td>\n",
       "      <td>1990</td>\n",
       "      <td>0.588333</td>\n",
       "      <td>0.585175</td>\n",
       "      <td>0.385541</td>\n",
       "      <td>0.686261</td>\n",
       "      <td>0.058613</td>\n",
       "      <td>0.043025</td>\n",
       "      <td>6.226970e-01</td>\n",
       "    </tr>\n",
       "    <tr>\n",
       "      <th>13861</th>\n",
       "      <td>World</td>\n",
       "      <td>coal</td>\n",
       "      <td>1990</td>\n",
       "      <td>0.159732</td>\n",
       "      <td>0.162076</td>\n",
       "      <td>0.385541</td>\n",
       "      <td>0.686261</td>\n",
       "      <td>0.058613</td>\n",
       "      <td>0.043025</td>\n",
       "      <td>2.587689e-01</td>\n",
       "    </tr>\n",
       "    <tr>\n",
       "      <th>13862</th>\n",
       "      <td>World</td>\n",
       "      <td>natural_gas</td>\n",
       "      <td>1990</td>\n",
       "      <td>0.125226</td>\n",
       "      <td>0.123809</td>\n",
       "      <td>0.385541</td>\n",
       "      <td>0.686261</td>\n",
       "      <td>0.058613</td>\n",
       "      <td>0.043025</td>\n",
       "      <td>1.103092e-01</td>\n",
       "    </tr>\n",
       "    <tr>\n",
       "      <th>13863</th>\n",
       "      <td>World</td>\n",
       "      <td>petroleum_n_other_liquids</td>\n",
       "      <td>1990</td>\n",
       "      <td>0.226707</td>\n",
       "      <td>0.222729</td>\n",
       "      <td>0.385541</td>\n",
       "      <td>0.686261</td>\n",
       "      <td>0.058613</td>\n",
       "      <td>0.043025</td>\n",
       "      <td>2.536192e-01</td>\n",
       "    </tr>\n",
       "    <tr>\n",
       "      <th>13864</th>\n",
       "      <td>World</td>\n",
       "      <td>nuclear</td>\n",
       "      <td>1990</td>\n",
       "      <td>0.034132</td>\n",
       "      <td>0.033290</td>\n",
       "      <td>0.385541</td>\n",
       "      <td>0.686261</td>\n",
       "      <td>0.058613</td>\n",
       "      <td>0.043025</td>\n",
       "      <td>1.441684e-07</td>\n",
       "    </tr>\n",
       "  </tbody>\n",
       "</table>\n",
       "</div>"
      ],
      "text/plain": [
       "      Country                Energy_type  Year  Energy_consumption  \\\n",
       "13860   World           all_energy_types  1990            0.588333   \n",
       "13861   World                       coal  1990            0.159732   \n",
       "13862   World                natural_gas  1990            0.125226   \n",
       "13863   World  petroleum_n_other_liquids  1990            0.226707   \n",
       "13864   World                    nuclear  1990            0.034132   \n",
       "\n",
       "       Energy_production       GDP  Population  Energy_intensity_per_capita  \\\n",
       "13860           0.585175  0.385541    0.686261                     0.058613   \n",
       "13861           0.162076  0.385541    0.686261                     0.058613   \n",
       "13862           0.123809  0.385541    0.686261                     0.058613   \n",
       "13863           0.222729  0.385541    0.686261                     0.058613   \n",
       "13864           0.033290  0.385541    0.686261                     0.058613   \n",
       "\n",
       "       Energy_intensity_by_GDP  CO2_emission  \n",
       "13860                 0.043025  6.226970e-01  \n",
       "13861                 0.043025  2.587689e-01  \n",
       "13862                 0.043025  1.103092e-01  \n",
       "13863                 0.043025  2.536192e-01  \n",
       "13864                 0.043025  1.441684e-07  "
      ]
     },
     "execution_count": 247,
     "metadata": {},
     "output_type": "execute_result"
    }
   ],
   "source": [
    "df1.head()"
   ]
  },
  {
   "cell_type": "code",
   "execution_count": 309,
   "metadata": {},
   "outputs": [],
   "source": [
    "X=df1[['Energy_consumption','Energy_production', 'GDP', 'Population', 'Energy_intensity_per_capita','Energy_intensity_by_GDP']]\n",
    "y=df1['CO2_emission']"
   ]
  },
  {
   "cell_type": "markdown",
   "metadata": {},
   "source": [
    "# Linear Regression Model"
   ]
  },
  {
   "cell_type": "code",
   "execution_count": 316,
   "metadata": {},
   "outputs": [],
   "source": [
    "from sklearn.model_selection import train_test_split\n",
    "\n",
    "X_train, X_test, y_train, y_test = train_test_split(X, y, test_size=0.25, random_state=0)"
   ]
  },
  {
   "cell_type": "code",
   "execution_count": 317,
   "metadata": {},
   "outputs": [
    {
     "data": {
      "text/plain": [
       "LinearRegression()"
      ]
     },
     "execution_count": 317,
     "metadata": {},
     "output_type": "execute_result"
    }
   ],
   "source": [
    "from sklearn.linear_model import LinearRegression\n",
    "regressor = LinearRegression()\n",
    "regressor.fit(X_train, y_train)"
   ]
  },
  {
   "cell_type": "code",
   "execution_count": 318,
   "metadata": {},
   "outputs": [
    {
     "name": "stdout",
     "output_type": "stream",
     "text": [
      "[ 1.15420535e+00 -8.52977100e-02 -2.94155806e-02  1.38137946e-02\n",
      " -7.32828945e-04  2.10544318e-03]\n"
     ]
    }
   ],
   "source": [
    "print(regressor.coef_)"
   ]
  },
  {
   "cell_type": "code",
   "execution_count": 319,
   "metadata": {},
   "outputs": [],
   "source": [
    "y_pred = regressor.predict(X_test)"
   ]
  },
  {
   "cell_type": "markdown",
   "metadata": {},
   "source": [
    "# Prediction for test dataset"
   ]
  },
  {
   "cell_type": "code",
   "execution_count": 315,
   "metadata": {},
   "outputs": [
    {
     "data": {
      "text/plain": [
       "array([-0.00034405, -0.00032723, -0.00036994, ...,  0.00226961,\n",
       "       -0.00047969, -0.00033541])"
      ]
     },
     "execution_count": 315,
     "metadata": {},
     "output_type": "execute_result"
    }
   ],
   "source": [
    "y_pred"
   ]
  }
 ],
 "metadata": {
  "colab": {
   "collapsed_sections": [],
   "name": "Assignment3_02.ipynb",
   "provenance": []
  },
  "kernelspec": {
   "display_name": "Python 3",
   "language": "python",
   "name": "python3"
  },
  "language_info": {
   "codemirror_mode": {
    "name": "ipython",
    "version": 3
   },
   "file_extension": ".py",
   "mimetype": "text/x-python",
   "name": "python",
   "nbconvert_exporter": "python",
   "pygments_lexer": "ipython3",
   "version": "3.8.8"
  }
 },
 "nbformat": 4,
 "nbformat_minor": 1
}
